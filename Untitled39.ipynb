{
 "cells": [
  {
   "cell_type": "code",
   "execution_count": 1,
   "id": "dd326e6c-b3a1-40c1-b008-f9e3ae107ef4",
   "metadata": {},
   "outputs": [],
   "source": [
    "import json\n",
    "import pandas as pd\n"
   ]
  },
  {
   "cell_type": "code",
   "execution_count": 2,
   "id": "d9f4483a-2a4f-4461-9c11-76bc13da3d77",
   "metadata": {},
   "outputs": [
    {
     "name": "stderr",
     "output_type": "stream",
     "text": [
      "C:\\Users\\Arnav\\anaconda3\\envs\\story_telling\\lib\\site-packages\\transformers\\tokenization_utils_base.py:1601: FutureWarning: `clean_up_tokenization_spaces` was not set. It will be set to `True` by default. This behavior will be depracted in transformers v4.45, and will be then set to `False` by default. For more details check this issue: https://github.com/huggingface/transformers/issues/31884\n",
      "  warnings.warn(\n"
     ]
    }
   ],
   "source": [
    "from transformers import GPT2Tokenizer, GPT2LMHeadModel, DataCollatorForLanguageModeling, Trainer, TrainingArguments\n",
    "import datasets\n",
    "from datasets import load_dataset\n",
    "\n",
    "# Load tokenizer and model\n",
    "tokenizer = GPT2Tokenizer.from_pretrained(\"gpt2\")\n",
    "model = GPT2LMHeadModel.from_pretrained(\"gpt2\")\n",
    "\n",
    "# Add padding token if missing\n",
    "if tokenizer.pad_token is None:\n",
    "    tokenizer.add_special_tokens({'pad_token': '[PAD]'})\n",
    "    model.resize_token_embeddings(len(tokenizer))\n",
    "\n",
    "# Load BookCorpus dataset\n",
    "#dataset = load_dataset(\"bookcorpus\",trust_remote_code=True)"
   ]
  },
  {
   "cell_type": "code",
   "execution_count": 3,
   "id": "6d81c717-84b0-4cd4-983d-cb52c9115e47",
   "metadata": {},
   "outputs": [],
   "source": [
    "#Don't panic arnav as you have the tokenized dataset with you\n",
    "'''\n",
    "reduced_dataset = dataset['train'].train_test_split(train_size=0.3)['train']\n",
    "\n",
    "# Tokenize the reduced dataset\n",
    "def tokenize_function(examples):\n",
    "    return tokenizer(examples['text'], truncation=True, padding='max_length', max_length=128)\n",
    "\n",
    "tokenized_datasets = reduced_dataset.map(tokenize_function, batched=True, remove_columns=['text'])\n",
    "'''\n",
    "\n",
    "# Data collator for language modeling\n",
    "data_collator = DataCollatorForLanguageModeling(\n",
    "    tokenizer=tokenizer,\n",
    "    mlm=False\n",
    ")\n"
   ]
  },
  {
   "cell_type": "code",
   "execution_count": 4,
   "id": "f542d5d9-21cd-46ec-9d58-e7ae6eb8d722",
   "metadata": {},
   "outputs": [
    {
     "data": {
      "application/vnd.jupyter.widget-view+json": {
       "model_id": "79ff425872444e1ea3eddabe6f9c60c7",
       "version_major": 2,
       "version_minor": 0
      },
      "text/plain": [
       "Loading dataset from disk:   0%|          | 0/29 [00:00<?, ?it/s]"
      ]
     },
     "metadata": {},
     "output_type": "display_data"
    }
   ],
   "source": [
    "# Specify the directory where you want to save the tokenized dataset\n",
    "\n",
    "from datasets import load_from_disk\n",
    "save_directory = r\"C:\\Users\\Arnav\\Desktop\\bookcorpus\"\n",
    "\n",
    "\n",
    "# Save the tokenized dataset to the specified directory\n",
    "tokenized_datasets = load_from_disk(save_directory)\n",
    "\n",
    "\n"
   ]
  },
  {
   "cell_type": "code",
   "execution_count": 5,
   "id": "73cfa4e8-e251-46d2-9d47-38d07fc18f15",
   "metadata": {},
   "outputs": [],
   "source": [
    "#print(tokenized_datasets)"
   ]
  },
  {
   "cell_type": "code",
   "execution_count": 6,
   "id": "08481e1a-0ed6-45ed-9c27-2f997c4b3721",
   "metadata": {},
   "outputs": [],
   "source": [
    "num_samples = int(len(tokenized_datasets) * 0.000135)\n",
    "\n",
    "# Create a subset with 30% of the dataset\n",
    "subset_datasets = tokenized_datasets.select(range(num_samples))"
   ]
  },
  {
   "cell_type": "code",
   "execution_count": 7,
   "id": "71f49d77-e270-4009-8d4c-9985a8dc50bc",
   "metadata": {},
   "outputs": [
    {
     "name": "stderr",
     "output_type": "stream",
     "text": [
      "C:\\Users\\Arnav\\anaconda3\\envs\\story_telling\\lib\\site-packages\\transformers\\training_args.py:1525: FutureWarning: `evaluation_strategy` is deprecated and will be removed in version 4.46 of 🤗 Transformers. Use `eval_strategy` instead\n",
      "  warnings.warn(\n"
     ]
    }
   ],
   "source": [
    "training_args = TrainingArguments(\n",
    "    output_dir=\"./gpt2-finetuned-bookcorpus\",\n",
    "    overwrite_output_dir=True,\n",
    "    num_train_epochs=2,  # Number of epochs\n",
    "    per_device_train_batch_size=8,  # Adjust batch size based on your GPU memory\n",
    "    save_steps=20_000,\n",
    "    save_total_limit=2,  # Limit the number of saved checkpoints\n",
    "    logging_steps=500,  # Log every 500 steps\n",
    "    evaluation_strategy=\"steps\",  # Evaluate every few steps\n",
    "    eval_steps=1000,\n",
    "    warmup_steps=500,  # Gradual learning rate warmup\n",
    "    weight_decay=0.01,  # Regularization\n",
    "    fp16=True,  # Mixed precision training (only for GPUs that support it)\n",
    ")"
   ]
  },
  {
   "cell_type": "code",
   "execution_count": 8,
   "id": "b25c9bc7-9fa4-4b6f-912a-cb2abc59fe3a",
   "metadata": {},
   "outputs": [],
   "source": [
    "trainer = Trainer(\n",
    "    model=model,\n",
    "    args=training_args,\n",
    "    data_collator=data_collator,\n",
    "    train_dataset=subset_datasets,  # Use the training set of BookCorpus\n",
    ")\n",
    "\n",
    "# Fine-tune the model\n",
    "#trainer.train()"
   ]
  },
  {
   "cell_type": "code",
   "execution_count": 9,
   "id": "3949195e-03f5-4674-845a-20f81412ce81",
   "metadata": {},
   "outputs": [
    {
     "name": "stdout",
     "output_type": "stream",
     "text": [
      "Model and tokenizer loaded successfully.\n"
     ]
    }
   ],
   "source": [
    "# Fine-tune the model\n",
    "# Save the fine-tuned model and tokenizer\n",
    "\n",
    "#model.save_pretrained('./gpt2-finetuned-bookcorpus')\n",
    "#tokenizer.save_pretrained('./gpt2-finetuned-bookcorpus')\n",
    "\n",
    "\n",
    "from transformers import GPT2Tokenizer, GPT2LMHeadModel\n",
    "\n",
    "# Load the tokenizer and model from the directory\n",
    "tokenizer = GPT2Tokenizer.from_pretrained('./gpt2-finetuned-bookcorpus')\n",
    "model = GPT2LMHeadModel.from_pretrained('./gpt2-finetuned-bookcorpus')\n",
    "\n",
    "# Optionally, you can print out a confirmation\n",
    "print(\"Model and tokenizer loaded successfully.\")\n",
    "\n"
   ]
  },
  {
   "cell_type": "code",
   "execution_count": 10,
   "id": "86832ae2-0664-43b2-a410-82a6569c8d2f",
   "metadata": {},
   "outputs": [],
   "source": [
    "from transformers import GenerationConfig\n",
    "\n",
    "# Create a GenerationConfig object with your custom settings\n",
    "generation_config = GenerationConfig(\n",
    "    max_length=80,  # The maximum number of tokens for generation\n",
    "    min_length=50,   # Ensure at least this many tokens are generated\n",
    "    do_sample=True,  # Sampling for creativity\n",
    "    temperature=0.8, # Adjust temperature for creativity\n",
    ")\n",
    "\n",
    "# Assign this GenerationConfig to the model\n",
    "model.generation_config = generation_config\n"
   ]
  },
  {
   "cell_type": "code",
   "execution_count": null,
   "id": "814a2dbd-da18-4d4c-b6ae-2cb195447579",
   "metadata": {},
   "outputs": [
    {
     "name": "stderr",
     "output_type": "stream",
     "text": [
      "Truncation was not explicitly activated but `max_length` is provided a specific value, please use `truncation=True` to explicitly truncate examples to max length. Defaulting to 'longest_first' truncation strategy. If you encode pairs of sequences (GLUE-style) with the tokenizer you can select this strategy more precisely by providing a specific strategy to `truncation`.\n"
     ]
    },
    {
     "name": "stdout",
     "output_type": "stream",
     "text": [
      "On a scale of 1-20 how long do you want us to generate for you?\n",
      "Once upon a time a king had been murdered, the two men were still alive. '' i said. `` i don't believe it, '' '' jordan replied.''' `` nope, you're not dead. your body is still in the river, i thought, and you can still be alive in your own skin.. lorren, it's time for you\n",
      "\n",
      "\n",
      "Once upon a time a king would be king, the first thing a man would do was to marry a woman. '' '' `` he said. ``... '' he added, shaking his head.'''.. - '''', `` you, '' i said, turning a. julian. \" ''? '', i 'd say, and i know what i am saying.\n",
      "\n",
      "\n",
      "Once upon a time a king could be crowned, i knew he would have the right to be king. '' '''s voice fell silent.''', '' he could call me 'a king, but i would never be the king of the city. `` i 'd never, `` she said. i didn't know. he 'll call my name, she've called my\n",
      "\n",
      "\n",
      "Which one do you like the most 0, 1 or 2?\n",
      "\n",
      "\n"
     ]
    }
   ],
   "source": [
    "# Initialize the text generation pipeline\n",
    "from transformers import pipeline\n",
    "generator = pipeline('text-generation', model=model, tokenizer=tokenizer)\n",
    "\n",
    "# Starting text\n",
    "input_text = \"Once upon a time a king\"\n",
    "\n",
    "# Number of iterations for story generation\n",
    "print(\"On a scale of 1-20 how long do you want us to generate for you?\")\n",
    "num_iterations = 5\n",
    "\n",
    "\n",
    "# Base max_length\n",
    "base_max_length = 80\n",
    "\n",
    "# Generate the story\n",
    "for i in range(num_iterations):\n",
    "    # Adjust max_length for each iteration\n",
    "    current_max_length = base_max_length + (i * 20)\n",
    "    \n",
    "    # Generate text with added parameters\n",
    "    outputs = generator(\n",
    "        input_text, \n",
    "        max_length=current_max_length, \n",
    "        num_return_sequences=3, \n",
    "        eos_token_id=tokenizer.eos_token_id,\n",
    "        temperature=0.7,  # Lower temperature for more focused generations\n",
    "        top_k=50,  # Restrict to top 50 words\n",
    "        top_p=0.9,  # Nucleus sampling\n",
    "        no_repeat_ngram_size=2,  # Avoid repeating phrases\n",
    "        pad_token_id=tokenizer.pad_token_id  # Prevent abrupt padding\n",
    "    )\n",
    "    \n",
    "    # Print and select outputs\n",
    "    print(outputs[0]['generated_text'])\n",
    "    print(\"\\n\")\n",
    "    print(outputs[1]['generated_text'])\n",
    "    print(\"\\n\")\n",
    "    print(outputs[2]['generated_text'])\n",
    "    print(\"\\n\")\n",
    "    print(\"Which one do you like the most 0, 1 or 2?\")\n",
    "    print(\"\\n\")\n",
    "    choice = int(input())\n",
    "    input_text = outputs[choice]['generated_text']  # Update input_text with the selected generated text\n",
    "print(\"The final story is:\")\n",
    "print(\"\\n\")\n",
    "print(input_text)"
   ]
  },
  {
   "cell_type": "code",
   "execution_count": null,
   "id": "394e925a-0a46-479b-bce8-a922e6fa9940",
   "metadata": {},
   "outputs": [],
   "source": []
  }
 ],
 "metadata": {
  "kernelspec": {
   "display_name": "Python 3 (ipykernel)",
   "language": "python",
   "name": "python3"
  },
  "language_info": {
   "codemirror_mode": {
    "name": "ipython",
    "version": 3
   },
   "file_extension": ".py",
   "mimetype": "text/x-python",
   "name": "python",
   "nbconvert_exporter": "python",
   "pygments_lexer": "ipython3",
   "version": "3.8.19"
  }
 },
 "nbformat": 4,
 "nbformat_minor": 5
}
